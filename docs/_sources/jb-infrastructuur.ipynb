{
 "cells": [
  {
   "cell_type": "markdown",
   "id": "63bbe5c4-3e18-4eb7-bf1b-6f87bdd413aa",
   "metadata": {},
   "source": [
    "(jb_infrastructuur)=\n",
    "# De Jupyter Book infrastructuur"
   ]
  },
  {
   "cell_type": "markdown",
   "id": "00008b55-d894-4ba4-835c-51352da07d0a",
   "metadata": {},
   "source": [
    "Voor auteurs en docenten heeft i&i een infrastructuur opgezet, voor het maken en aanpassen van lesmateriaal.\n",
    "\n",
    "> We willen het auteurs en docenten hiermee zo gemakkelijk mogelijk maken: ze hoeven hiervoor niets op hun eigen computer te installeren.\n",
    "\n",
    "Deze onlinen omgeving bestaat uit de volgende onderdelen:\n",
    "\n",
    "* een Jupyter Notebook cq. JupyterLab omgeving (via Jupyter Hub)\n",
    "* een lokale server, voor het controleren van het materiaal in online publicatie-vorm\n",
    "* verbonden met GitHub, voor het publiceren van het materiaal"
   ]
  },
  {
   "cell_type": "markdown",
   "id": "fe884614-6c52-4c62-ad53-59c368269ab9",
   "metadata": {},
   "source": [
    "Auteurs en docenten moeten enige kennis hebben van deze bouwstenen: Jupyter, Jupyter Book (Markdown, MyST voor opmaak), en GitHub (en git-versiebeheer). GitHub account is noodzakelijk. (Cursus? Handleidingen?)"
   ]
  },
  {
   "cell_type": "markdown",
   "id": "b71a4357-22fc-4098-9f49-0ef1e355fcee",
   "metadata": {},
   "source": [
    "## Jupyter Notebook en Jupyter Lab\n",
    "\n",
    "Jupyter Notebook is de UI voor een enkel notebook. Met de Jupyter Lab UI kun je een reeks notebooks (en andere bestanden) beheren."
   ]
  },
  {
   "cell_type": "markdown",
   "id": "7f0341aa-ed84-4b8b-a4ca-92d59da628b9",
   "metadata": {},
   "source": [
    "## Jupyter Hub\n",
    "\n",
    "Jupyter Hub is een multi-user server voor Jupyter Notebook en Jupyter Lab.\n",
    "\n",
    "Voor de normale gebruikers is dit een gewone Jupyter omgeving. admin-gebruikers kunnen een aantal zaken voor de andere gebruikers beheren.\n"
   ]
  }
 ],
 "metadata": {
  "kernelspec": {
   "display_name": "Python 3 (ipykernel)",
   "language": "python",
   "name": "python3"
  },
  "language_info": {
   "codemirror_mode": {
    "name": "ipython",
    "version": 3
   },
   "file_extension": ".py",
   "mimetype": "text/x-python",
   "name": "python",
   "nbconvert_exporter": "python",
   "pygments_lexer": "ipython3",
   "version": "3.9.7"
  }
 },
 "nbformat": 4,
 "nbformat_minor": 5
}
