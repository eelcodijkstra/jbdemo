{
 "cells": [
  {
   "cell_type": "markdown",
   "id": "cc829eef-fd35-42c4-a5d2-8e089048d35f",
   "metadata": {},
   "source": [
    "# Lijst van todo's"
   ]
  },
  {
   "cell_type": "markdown",
   "id": "a4038fa0-f067-44d6-ba0f-374e0fc27f4a",
   "metadata": {},
   "source": [
    "Een overzicht van alle todo's:"
   ]
  },
  {
   "cell_type": "markdown",
   "id": "7e43ac68-033b-4288-a5c9-b3431e9fcffc",
   "metadata": {},
   "source": [
    "```{todolist}\n",
    "```"
   ]
  },
  {
   "cell_type": "markdown",
   "id": "6308dd26-dbd3-477d-8930-232839894eb8",
   "metadata": {},
   "source": []
  }
 ],
 "metadata": {
  "kernelspec": {
   "display_name": "Python 3 (ipykernel)",
   "language": "python",
   "name": "python3"
  },
  "language_info": {
   "codemirror_mode": {
    "name": "ipython",
    "version": 3
   },
   "file_extension": ".py",
   "mimetype": "text/x-python",
   "name": "python",
   "nbconvert_exporter": "python",
   "pygments_lexer": "ipython3",
   "version": "3.9.7"
  }
 },
 "nbformat": 4,
 "nbformat_minor": 5
}
