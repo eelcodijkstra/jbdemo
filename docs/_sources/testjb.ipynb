{
 "cells": [
  {
   "cell_type": "markdown",
   "id": "49b7b265-d292-4734-8255-c4b5e801c870",
   "metadata": {},
   "source": [
    "# Test"
   ]
  },
  {
   "cell_type": "markdown",
   "id": "d6497583-6658-41cb-b0e2-a979d4058e78",
   "metadata": {},
   "source": []
  },
  {
   "cell_type": "markdown",
   "id": "e24d2326-e305-4464-a93c-b4c112a73200",
   "metadata": {},
   "source": [
    "Dit is een test voor de verschillende JB constructies.\n",
    "\n",
    "Hieronder panels in card-layout, zonder schaduw. Elk panel heeft een header, hier in de vorm van een link; en een body (en een footer?).\n",
    "\n",
    "(In de oorspronkelijke versie staan hier speciale myst-targets; hoe werkt dat?)"
   ]
  },
  {
   "cell_type": "markdown",
   "id": "2e2226b2-a477-47c1-8324-585d057c0282",
   "metadata": {},
   "source": [
    ":::{panels}\n",
    ":container: +full-width text-center\n",
    ":column: col-lg-6 px-2 py-2\n",
    ":card:\n",
    "\n",
    "**[Publication-quality content](file-types:markdown)** ✍\n",
    "^^^\n",
    "Write in either Jupyter Markdown, MyST Markdown for more [publishing features](content/myst), [reStructuredText](file-types:rst), [Jupyter Notebooks](file-types:notebooks), or [any Jupytext format](file-types:custom).\n",
    "Includes support for rich syntax such as [citations and cross-references](content/citations), [math and equations](content/math), and [figures](content/figures).\n",
    "+++\n",
    "Dit is een panel footer.\n",
    "\n",
    "---\n",
    "**[Execute, cache, and insert computational content](content/execute)** 🚀\n",
    "^^^\n",
    "Execute notebook cells, then [format and insert the latest outputs](content:code-outputs) into your book.\n",
    "[Cache outputs to save time in re-building later](execute/cache).\n",
    "Even [save notebook outputs and insert them into other pages](content:code-outputs:glue).\n",
    "\n",
    "---\n",
    "**[Add interactivity to content and outputs](interactive/launchbuttons)** ✨\n",
    "^^^\n",
    "Create interactive content blocks such as [](content:tabs), [](content:dropdowns). [Toggle cell visibility](interactive/hiding) and include [interactive cell outputs](interactive/interactive) with Jupyter notebooks. [Launch interactive sessions](interactive/launchbuttons) with Binder or Colab, [make your code executable with Thebe](launch:thebe), or [connect with commenting services like Hypothes.is](interactive:comments).\n",
    "\n",
    "---\n",
    "**[Build books and articles in many formats](start/build)** 🎁\n",
    "^^^\n",
    "Build [multi-page books](structure:book) or [single articles](structure:article), and generate many kinds of outputs from them, such as [HTML websites](start/build) or [PDF outputs](advanced/pdf). Jupyter Book uses [the Sphinx Documentation engine](https://www.sphinx-doc.org) which supports [a variety of output types](https://www.sphinx-doc.org/en/master/usage/builders/index.html).\n",
    "\n",
    ":::"
   ]
  },
  {
   "cell_type": "markdown",
   "id": "560908e5-12e0-4aaf-8f86-af111635cdec",
   "metadata": {},
   "source": [
    "(file-types:markdown)=\n",
    "## Markdown file types\n",
    "\n",
    "(Dit is een test van de Myst targets en verwijzingen.)\n"
   ]
  }
 ],
 "metadata": {
  "kernelspec": {
   "display_name": "Python 3 (ipykernel)",
   "language": "python",
   "name": "python3"
  },
  "language_info": {
   "codemirror_mode": {
    "name": "ipython",
    "version": 3
   },
   "file_extension": ".py",
   "mimetype": "text/x-python",
   "name": "python",
   "nbconvert_exporter": "python",
   "pygments_lexer": "ipython3",
   "version": "3.9.7"
  }
 },
 "nbformat": 4,
 "nbformat_minor": 5
}
