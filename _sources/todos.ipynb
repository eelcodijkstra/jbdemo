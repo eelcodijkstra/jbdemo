{
 "cells": [
  {
   "cell_type": "markdown",
   "id": "899c10e1-f9c2-4e5b-84d8-af08d3246050",
   "metadata": {},
   "source": [
    "# Todo's en wensen"
   ]
  },
  {
   "cell_type": "markdown",
   "id": "59eadc1d-6afc-4d2f-9e66-dd7b06afe8f6",
   "metadata": {},
   "source": [
    "## Openen in Binder en in Jupyter Hub (i&i)\n",
    "\n",
    "```{todo} \n",
    "**Openen in Binder en in Jupyter Hub (i&i)**\n",
    "\n",
    "Deze inleiding in Jupyter en Jupyter Book moet links hebben voor het openen in Binder en voor het openen in Jupyter Hub, op de i&i hub. Dit laatste is voor het oefenen met de infrastructuur. Een gebruiker (docent) moet in het laatste geval wel een account hebben op deze hub.\n",
    "```"
   ]
  },
  {
   "cell_type": "markdown",
   "id": "3af41fde-80da-4401-9d5f-a8b017f43b16",
   "metadata": {},
   "source": [
    "## Wens: een extensie voor het bijhouden van vorderingen\n",
    "\n",
    "Eén van de voordelen van Runestone Interactive is dat deze het mogelijk maakt voor een leerling om zijn vorderingen te zien - en voor een docent om de vorderingen van de leerlingen te zien.\n",
    "\n",
    "Dit kunnen we alleen realiseren als we een dienst (server) waarop de leerling (en de docent) op de een of andere manier moet inloggen (hoeft niet onder de eigen naam)."
   ]
  },
  {
   "cell_type": "markdown",
   "id": "312b4477-8842-4269-8936-6f5a9938c51a",
   "metadata": {},
   "source": [
    "## Tips voor het maken van lesmateriaal\n",
    "\n",
    "We moeten een hoofdstuk (of meer) wijden aan tips voor het maken van lesmateriaal in het algemeen; en met behulp van Jupyter Book in het bijzonder.\n",
    "\n",
    "We kunnen daarbij een opzet maken die door een docent zo als template overgenomen kan worden."
   ]
  },
  {
   "cell_type": "markdown",
   "id": "74564a16-dec2-4926-a5f6-8426c27744f6",
   "metadata": {},
   "source": [
    "## Fout (in JB): navigatie onderaan de pagina\n",
    "\n",
    "Deze navigatie moet netjes links en rechts staan; in de huidige versie staat deze alleen links. (Ik heb deze in een ander JB al eens aangepast?)"
   ]
  },
  {
   "cell_type": "markdown",
   "id": "892b557a-43ab-4296-b17e-7340e65ba5e7",
   "metadata": {},
   "source": [
    "## Vertaling van admonitions\n",
    "\n",
    "Jupyter Book (Sphinx) biedt allerlei \"admonitions\" voor tips, waarschuwingen e.d. in de tekst. Deze worden voorzien van een gekleurde kop met een icoontje.\n",
    "\n",
    "In het Nederlandstalige materiaal willen we graag dat deze admonitions in het Nederlands vertaald worden. Bij voorkeur willen we zelf de vertaling bepalen; de \"default\" vertalingen zijn niet altijd geschikt."
   ]
  },
  {
   "cell_type": "markdown",
   "id": "120aee85-7ec5-4d78-a5b4-4c96f58c956a",
   "metadata": {},
   "source": [
    "## Jupyter games\n",
    "\n",
    "* https://blog.jupyter.org/jupyter-games-cda20dc15a21"
   ]
  },
  {
   "cell_type": "markdown",
   "id": "71f473af-777f-47a6-92f1-1588d65a5c48",
   "metadata": {},
   "source": [
    "## Jupyter Lite - P5js?\n",
    "\n",
    "Jupyter Lite is een versie van Jupyter die geheel in de browser uitgevoerd kan worden. Dit kan bijvoorbeeld gebruikt worden in combinatie met de P5js kernel.\n",
    "\n",
    "* https://blog.jupyter.org/xeus-lite-379e96bb199d"
   ]
  },
  {
   "cell_type": "markdown",
   "id": "3a352d8e-af1c-4b9e-823b-3e03077d3258",
   "metadata": {},
   "source": [
    "## Interactieve slides\n",
    "\n",
    "* gebruik van i&i Jupyter Hub (door docent)?\n",
    "* gebruik van MyBinder\n",
    "* via RISE\n",
    "* nog uitzoeken: via Voila?"
   ]
  },
  {
   "cell_type": "markdown",
   "id": "8aa0326d-33a8-44e9-aeaf-f7495db00060",
   "metadata": {},
   "source": [
    "---\n",
    "\n",
    "## DONE - onderstaande zijn al uitgevoerd"
   ]
  },
  {
   "cell_type": "markdown",
   "id": "7c87720e-89af-4c23-b6cd-3a752846f8e6",
   "metadata": {},
   "source": [
    "### Cell default - Markdown?\n",
    "\n",
    "* https://stackoverflow.com/questions/40382454/jupyter-notebook-new-cell-type-default\n",
    "* onderstaande werkt, en is hier zo ingesteld.\n",
    "\n",
    "In JupyterLab, you can go to Settings -> Advanced Settings manager -> Notebook and then add the following in \"User Preferences\":\n",
    "\n",
    "```\n",
    "{\n",
    "    \"defaultCell\": \"markdown\"\n",
    "}\n",
    "```"
   ]
  }
 ],
 "metadata": {
  "kernelspec": {
   "display_name": "Python 3 (ipykernel)",
   "language": "python",
   "name": "python3"
  },
  "language_info": {
   "codemirror_mode": {
    "name": "ipython",
    "version": 3
   },
   "file_extension": ".py",
   "mimetype": "text/x-python",
   "name": "python",
   "nbconvert_exporter": "python",
   "pygments_lexer": "ipython3",
   "version": "3.9.7"
  }
 },
 "nbformat": 4,
 "nbformat_minor": 5
}
