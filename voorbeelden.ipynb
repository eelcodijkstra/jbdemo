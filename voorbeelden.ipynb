{
 "cells": [
  {
   "cell_type": "markdown",
   "id": "824af721-5434-411c-9c5f-f6ed4f5ff797",
   "metadata": {},
   "source": [
    "(voorbeeld-paginas)=\n",
    "# Bij de voorbeelden"
   ]
  },
  {
   "cell_type": "markdown",
   "id": "1104a9d1-3d31-4658-ba22-20121935a832",
   "metadata": {},
   "source": [
    "De volgende pagina's bevatten voorbeelden van het keuzethema-materiaal, vormgegeven met Jupyter Book."
   ]
  },
  {
   "cell_type": "markdown",
   "id": "ac4dad1b-ff7b-4499-b8ae-afc569c76f7c",
   "metadata": {},
   "source": [
    "##  {ref}`Elm - functioneel programmeren <Elm-voorbeeld>`\n",
    "\n",
    "De Elm-pagina is een voorbeeld uit het functioneel programmeren materiaal, als onderdeel van Programmeerparadigma's.\n",
    "\n",
    ":::{tip}\n",
    "Je kunt deze pagina actief maken door op de \"Live code\" button te klikken (onder de \"raket\" bovenin). Elke code-cel krijgt dan de knoppen \"Run\", \"Restart\" en ... Je kunt de code van een code-cel aanpassen en de cel opnieuw uitvoeren: op die manier kun je experimeteren met Elm. Er zijn ook Elm-opdrachten op de pagina die je hiermee kunt uitvoeren.\n",
    ":::"
   ]
  },
  {
   "cell_type": "markdown",
   "id": "1bff8162-5ccb-4f57-92a9-68061cb61404",
   "metadata": {},
   "source": [
    "## {ref}`Physical computing <microbit-1b>`\n",
    "\n",
    "Deze pagina toont hoe je het materiaal voor Physical computing kunt vormgeven op een aantrekkelijke manier.\n",
    "Je kunt elke pagina afzonderlijk afdrukken als leskaart die leerlingen naast hun schakeling kunnen leggen."
   ]
  },
  {
   "cell_type": "markdown",
   "id": "5bb52f05-0f22-4c1f-a9ca-00435b057606",
   "metadata": {},
   "source": [
    "## {ref}`SQL - databases <sqlite-2>`\n",
    "\n",
    "De SQL-pagina is een onderdeel van het Database-materiaal. Ook in dit geval kun je de pagina interactief maken via de \"Live code\" button, om te experimenteren met eigen varianten van de SQL-opdrachten."
   ]
  },
  {
   "cell_type": "markdown",
   "id": "73533bfc-83ce-406d-9ef2-fcd65855bef0",
   "metadata": {},
   "source": [
    "## Toetsvragen\n",
    "\n",
    "Deze pagina geeft een aantal voorbeelden van toetsvragen zoals je die in het materiaal tegen kunt komen.\n",
    "Leerlingen kunnen hiermee hun begrip van de stof toetsen (\"formatief toetsen\")."
   ]
  }
 ],
 "metadata": {
  "kernelspec": {
   "display_name": "Python 3 (ipykernel)",
   "language": "python",
   "name": "python3"
  },
  "language_info": {
   "codemirror_mode": {
    "name": "ipython",
    "version": 3
   },
   "file_extension": ".py",
   "mimetype": "text/x-python",
   "name": "python",
   "nbconvert_exporter": "python",
   "pygments_lexer": "ipython3",
   "version": "3.9.12"
  }
 },
 "nbformat": 4,
 "nbformat_minor": 5
}
