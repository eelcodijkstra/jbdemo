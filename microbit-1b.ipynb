{
 "cells": [
  {
   "cell_type": "markdown",
   "id": "e14571b0-67dc-4ae1-969e-859aa4c4b48e",
   "metadata": {},
   "source": [
    "(microbit-1b)=\n",
    "# Microbit les 1b"
   ]
  },
  {
   "cell_type": "markdown",
   "id": "9ccf0cc0-3773-491e-9f21-6a77015ce54a",
   "metadata": {},
   "source": [
    "````{panels}\n",
    ":header: bg-info text-white\n",
    ":card:\n",
    "\n",
    "**Doel**\n",
    "^^^\n",
    "Continu uitlezen van een analoge temperatuursensor en grafisch weergeven van de temperatuur.\n",
    "\n",
    "---\n",
    "\n",
    "**Voorkennis**\n",
    "^^^\n",
    "Les 01a-Temperatuur plotten\n",
    "\n",
    "````"
   ]
  },
  {
   "cell_type": "markdown",
   "id": "8335bc53-a579-4f98-9703-5526c10f0208",
   "metadata": {},
   "source": [
    "````{panels}\n",
    ":card:\n",
    "\n",
    "**Concepten**\n",
    "^^^\n",
    "analoge temperatuursensor\n",
    "---\n",
    "\n",
    "**Wat heb je nodig?**\n",
    "^^^\n",
    "microbit; \"host\" computer met Mu-editor\n",
    "breadboard; analoge temperatuursensor\n",
    "\n",
    "````"
   ]
  },
  {
   "cell_type": "markdown",
   "id": "2688ec3e-d0aa-4ae4-8283-a82c93a52e4c",
   "metadata": {},
   "source": [
    "````{panels}\n",
    ":card:\n",
    "\n",
    "**Schakeling**\n",
    "^^^\n",
    "* sluit microbit-3V aan op Vcc van de sensor\n",
    "* sluit microbit-0V aan op Gnd van de sensor\n",
    "* sluit pin0 van de microbit aan op Out van de sensor\n",
    "\n",
    "Zie breadboard-schakeling en schema verderop.\n",
    "---\n",
    "\n",
    "**LM35DZ pinout**\n",
    "^^^\n",
    "```{image} images/lm35dz-pinout.png\n",
    ":alt: lm35dz\n",
    ":class: bg-primary mb-1\n",
    ":width: 100px\n",
    ":align: center\n",
    "```\n",
    "\n",
    "````"
   ]
  },
  {
   "cell_type": "markdown",
   "id": "e7fac774-3435-42e5-9966-05cd3b42c6c7",
   "metadata": {},
   "source": [
    "````{panels}\n",
    ":card:\n",
    "\n",
    "**Analoge input**\n",
    "^^^\n",
    "* `pin0.read_analog()`\n",
    "* resultaat: 0..1023\n",
    "* 0V=>0, 3.3V=>1023\n",
    "* 3.3V == 3300 mV\n",
    "\n",
    "---\n",
    "\n",
    "**Karakteristieken LM35DZ**\n",
    "^^^\n",
    "* temperatuur bereik 0-100 'C\n",
    "* nauwkeurigheid +/- 0.25 'C\n",
    "* 0 'C => 0V\n",
    "* 10 mV per 0.1 'C\n",
    "\n",
    "````"
   ]
  },
  {
   "cell_type": "markdown",
   "id": "320d11bf-d1e8-4bff-8e4a-e85bcf1c95c8",
   "metadata": {},
   "source": [
    "````{panels}\n",
    ":card:\n",
    "\n",
    "**Python programma**\n",
    "^^^\n",
    "```python\n",
    "from microbit import *\n",
    "\n",
    "while True:\n",
    "    temp1 = temperature()\n",
    "    temp2 = pin0.read_analog()\n",
    "    print((temp1, temp2))\n",
    "    sleep(100)\n",
    "```\n",
    "\n",
    "---\n",
    "\n",
    "**Nog aanpassen!**\n",
    "^^^\n",
    "Het programma hiernaast in nog niet juist!\n",
    "\n",
    "Voor het bepalen van `temp2` moet je rekening houden met:\n",
    "\n",
    "* het spanningsbereik van de sensor, afhankelijk van de temperatuur;\n",
    "* het bereik van de A/D-omzetter van de microbit.\n",
    "\n",
    "````"
   ]
  },
  {
   "cell_type": "markdown",
   "id": "a43af947-bf4f-48bb-9aca-f64192810842",
   "metadata": {},
   "source": [
    "\n"
   ]
  },
  {
   "cell_type": "markdown",
   "id": "c6b8da62-6d2d-4466-ab55-86b11f993c78",
   "metadata": {},
   "source": [
    "````{list-table}\n",
    ":header-rows: 1\n",
    "\n",
    "* - breadboard-schakeling\n",
    "  - schema\n",
    "* - ```{image} images/microbit-lm35_bb.png\n",
    "    :alt: lm35dz-breadboard\n",
    "    :class: bg-primary mb-1\n",
    "    :width: 400px\n",
    "    :align: center\n",
    "    ```\n",
    "  - ```{image} images/microbit-lm35_schem.png\n",
    "    :alt: lm35dz-schakeling\n",
    "    :class: bg-primary mb-1\n",
    "    :width: 400px\n",
    "    :align: center\n",
    "    ```\n",
    "````"
   ]
  }
 ],
 "metadata": {
  "kernelspec": {
   "display_name": "Python 3 (ipykernel)",
   "language": "python",
   "name": "python3"
  },
  "language_info": {
   "codemirror_mode": {
    "name": "ipython",
    "version": 3
   },
   "file_extension": ".py",
   "mimetype": "text/x-python",
   "name": "python",
   "nbconvert_exporter": "python",
   "pygments_lexer": "ipython3",
   "version": "3.9.12"
  }
 },
 "nbformat": 4,
 "nbformat_minor": 5
}
