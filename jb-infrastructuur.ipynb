{
 "cells": [
  {
   "cell_type": "markdown",
   "id": "63bbe5c4-3e18-4eb7-bf1b-6f87bdd413aa",
   "metadata": {},
   "source": [
    "(jb_infrastructuur)=\n",
    "# De Jupyter Book infrastructuur"
   ]
  },
  {
   "cell_type": "markdown",
   "id": "00008b55-d894-4ba4-835c-51352da07d0a",
   "metadata": {},
   "source": [
    "i&i heeft een infrastructuur opgezet voor auteurs en docenten, voor het maken en aanpassen van lesmateriaal.\n",
    "\n",
    "> Het doel is om het docenten en auteurs zo gemakkelijk mogelijk te maken: installeren van software op de eigen computer is niet nodig.\n",
    "\n",
    "Deze online omgeving bestaat uit de volgende onderdelen:\n",
    "\n",
    "* een Jupyter Hub server, als omgeving voor Jupyter Notebook cq. Jupyter Lab.\n",
    "* de Jupyter Book software op deze Jupyter Hub.\n",
    "* een webserver voor het publiceren van het materiaal, voor testdoeleinden.\n",
    "* GitHub, voor het opslaan van de broncode, en eventueel ook voor het publiceren van het materiaal."
   ]
  },
  {
   "cell_type": "markdown",
   "id": "fe884614-6c52-4c62-ad53-59c368269ab9",
   "metadata": {},
   "source": [
    "Auteurs en docenten moeten enige kennis hebben van deze bouwstenen: Jupyter Notebook/Jupyter Lab, Jupyter Book (Markdown, MyST voor opmaak), en GitHub (en git-versiebeheer). Een GitHub account is noodzakelijk. (Cursus? Handleidingen?)"
   ]
  },
  {
   "cell_type": "markdown",
   "id": "b71a4357-22fc-4098-9f49-0ef1e355fcee",
   "metadata": {},
   "source": [
    "## Jupyter Notebook en Jupyter Lab\n",
    "\n",
    "Via de *Jupyter Lab UI* (ingesteld als default) kun je notebooks en andere Jupyter Book-bestanden beheren, aanmaken en aanpassen.\n",
    "Hiermee kun je ook de opdrachten geven voor het aanmaken van een HTML-versie voor publicatie, en voor het synchroniseren van de bestanden met GitHub.\n",
    "\n",
    "Met de Notebook UI (als keuze beschikbaar) kun je een enkel notebook bewerken."
   ]
  },
  {
   "cell_type": "markdown",
   "id": "7f0341aa-ed84-4b8b-a4ca-92d59da628b9",
   "metadata": {},
   "source": [
    "## Jupyter Hub, Jupyter Book\n",
    "\n",
    "Jupyter Hub is een multi-user server voor Jupyter Notebook en Jupyter Lab.\n",
    "\n",
    "Op deze server is de Jupyter Book software geïnstalleerd, voor het genereren van de publiceerdbare HTML-code uit de beschrijving."
   ]
  },
  {
   "cell_type": "markdown",
   "id": "537e0d6b-6f8b-4502-8fa2-218bd7a06629",
   "metadata": {},
   "source": [
    "## Webserver: publiceren van het materiaal\n",
    "\n",
    "Voor het publiceren van de resultaten: Jupyter Books in HTML-vorm, beschikt deze Jupyter Hub-server ook over een webserver voor statische websites.\n",
    "\n",
    "Omdat het statische websites betreft kun je deze ook via GitHub Pages publiceren."
   ]
  },
  {
   "cell_type": "markdown",
   "id": "2ea2eda4-ae21-4866-9229-68a749099c50",
   "metadata": {},
   "source": [
    "## GitHub\n",
    "\n",
    "Het materiaal wordt opgeslagen op GitHub, in de [keuzethemas](https://github.com/keuzethemas) organisatie. Dit zorgt ervoor dat:\n",
    "\n",
    "* het materiaal publiek beschikbaar is;\n",
    "* er versiebeheer op het materiaal plaatsvindt;\n",
    "* andere gebruikers eenvoudig een eigen, afgeleide versie (\"fork\") kunnen maken, waarbij:\n",
    "    * aanpassingen naderhand in het oorspronkelijke materiaal ook in het afgeleide materiaal verwerkt kunnen worden;\n",
    "    * aanpassingen in de afgeleide versie ook in het oorspronkelijke materiaal verwerkt kunnen worden.\n",
    "    \n",
    "Zoals gezegd bewerk je de bestanden op de Jupyter Hub, via de Jupyter Lab UI, en synchroniseer je deze met *keuzethemas* op GitHub."
   ]
  }
 ],
 "metadata": {
  "kernelspec": {
   "display_name": "Python 3 (ipykernel)",
   "language": "python",
   "name": "python3"
  },
  "language_info": {
   "codemirror_mode": {
    "name": "ipython",
    "version": 3
   },
   "file_extension": ".py",
   "mimetype": "text/x-python",
   "name": "python",
   "nbconvert_exporter": "python",
   "pygments_lexer": "ipython3",
   "version": "3.9.12"
  }
 },
 "nbformat": 4,
 "nbformat_minor": 5
}
