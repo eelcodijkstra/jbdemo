{
 "cells": [
  {
   "cell_type": "markdown",
   "id": "19d931bf-a0c1-45fa-a6e9-83d18936a81b",
   "metadata": {},
   "source": [
    "(jupyter_notebook)=\n",
    "# Jupyter Notebook"
   ]
  },
  {
   "cell_type": "markdown",
   "id": "4478ed08-00ca-4ca9-9892-468843a9c710",
   "metadata": {},
   "source": [
    "Jupyter Notebook (https://jupyter.org) is een veel gebruikt hulpmiddel voor o.a. Data Science onderzoekers, voor het uitvoeren van onderzoek en voor het publiceren van de resultaten. Bij dit laatste is het van belang dat anderen de experimenten met de gebruikte data precies kunnen volgen en eventueel kunnen herhalen. Jupyter Notebook biedt die mogelijkheid, en vormt een belangrijke stap naar Open Research.\n",
    "\n",
    "Voor het onderwijs biedt de combinatie van tekst en uitvoerbare code veel mogelijkheden. Zie bijvoorbeeld: \n",
    "\n",
    "* [Teaching and learning with Jupyter](https://jupyter4edu.github.io/jupyter-edu-book/)\n",
    "* https://www.epfl.ch/education/educational-initiatives/cede/digitaltools/jupyter-notebooks-for-education/\n",
    "* https://www.surf.nl/jupyter-notebook-toegankelijke-en-interactieve-data-analyse-voor-onderzoek-en-onderwijs\n",
    "\n",
    "Jupyter Book biedt, door het bundelen van Jupyter Notebooks en Markdown documenten, een volgende stap voor het gebruik van Jupyter Notebooks in het onderwijs.\n",
    "De [exectable books website](https://executablebooks.org/en/latest/gallery.html) bevat een grote reeks voorbeelden van onderwijsmateriaal gemaakt met Jupyter Book en Jupyter Notebooks.\n",
    "\n",
    "Een ander voordeel van Jupyter Notebook voor het onderwijs is dat dit aangeboden kan worden als een web-applicatie \"in the cloud\".\n",
    "Leerlingen hoeven dan geen software te installeren, alles kan voor het centraal klaargezet worden."
   ]
  },
  {
   "cell_type": "markdown",
   "id": "e91ef560-746b-4851-8db7-fae48aa2fcff",
   "metadata": {},
   "source": [
    "## Wat is een Jupyter Notebook?"
   ]
  },
  {
   "cell_type": "markdown",
   "id": "586d9de3-c879-46eb-a892-77e5c278dca7",
   "metadata": {},
   "source": [
    "Een Jupyter Notebook bestaat uit cellen; de belangrijkste soorten zijn Markdown (tekst) cellen en code-cellen.\n",
    "Deze cel is een Markdown cel. Zoals je ziet kan deze ook formules bevatten, maar ook figuren e.d.\n",
    "\n",
    "$e = m \\cdot c^2$\n",
    "\n",
    "$x_{1,2} = \\frac{-b \\pm \\sqrt{b^2 - 4ac}}{2a}$\n",
    "\n",
    "De cel hieronder is een code-cel (in Python). Het resultaat van de uitvoering van de cel zie je onder de cel."
   ]
  },
  {
   "cell_type": "code",
   "execution_count": 4,
   "id": "d85dea59-815f-43f5-b75b-e00eec1c6bdc",
   "metadata": {},
   "outputs": [
    {
     "data": {
      "text/plain": [
       "120"
      ]
     },
     "execution_count": 4,
     "metadata": {},
     "output_type": "execute_result"
    }
   ],
   "source": [
    "def fac(n):\n",
    "    if n == 0:\n",
    "        return 1\n",
    "    else:\n",
    "        return n * fac(n - 1)\n",
    "\n",
    "fac(5)"
   ]
  },
  {
   "cell_type": "markdown",
   "id": "ce9422cb-04bb-41f1-884c-9e982c011614",
   "metadata": {},
   "source": [
    "**Opdracht.** Selecteer de code-cel hierboven en pas de laatste formule aan, bijvoorbeeld: `fac(10)`. Voer de code nogmaals uit door de cel te selecteren en \"Shift-Return\" in te toetsen."
   ]
  },
  {
   "cell_type": "markdown",
   "id": "a96528fe-2cb0-48b0-b382-a4cd039a0c96",
   "metadata": {},
   "source": [
    "Doordat je allerlei Python-libraries kunt gebruiken, kun je bijvoorbeeld ook grafieken maken."
   ]
  },
  {
   "cell_type": "markdown",
   "id": "5b6068f9-0fcc-4f60-b0f8-450b723e40d8",
   "metadata": {},
   "source": [
    "## Kernels\n",
    "\n",
    "Een notebook gebruikt voor het uitvoeren van de code-cellen een *kernel* in een bepaalde programmeertaal.\n",
    "Er zijn kernels voor allerlei programmeertalen, bijvoorbeeld Python, R, JavaScript (en p5.js), Elm (functioneel programmeren), SQLite (databases), en nog veel meer.\n",
    "De Jupyter-aanpak is vooral geschikt voor interpreter-talen met een Read-Execute-Print-Loop (REPL).\n",
    "Een vertaalde taal als Java is hiervoor minder geschikt, hoewel Elm een voorbeeld geeft hoe dit kan. \n",
    "\n",
    "Jupyter Notebook werkt als een web-applicatie: de User Interface werkt in de browser, het rekenwerk wordt gedaan op de server.\n",
    "Dit betekent dat je ook veel voorbeelden tegenkomt van het gebruik van Jupyter Notebook \"in the cloud\".\n",
    "Dit heeft als grote voordeel dat gebruikers geen software hoeven te installeren.\n",
    "\n",
    "Je kunt overigens Jupyter Notebook ook op je eigen computer installeren.\n",
    "Je gebruikt dan nog steeds de browser voor de User Interface.\n",
    "Je eigen computer fungeert dan als (web)server voor het uitvoeren van de kernel(s)."
   ]
  },
  {
   "cell_type": "markdown",
   "id": "a9fe786b-901a-44ef-946f-638fe69f88bf",
   "metadata": {},
   "source": [
    ":::{graphviz}\n",
    ":align: center\n",
    "\n",
    "digraph{\n",
    "  node [shape=box, fontname=\"Gill Sans\"]\n",
    "  notebook [label=\"Jupyter Notebook\\nin de browser\"]\n",
    "  kernel [label=\"Python kernel\\nop de server\"]\n",
    "  notebook -> kernel\n",
    "  kernel -> notebook\n",
    "}\n",
    ":::"
   ]
  },
  {
   "cell_type": "markdown",
   "id": "d4017ef9-d659-4737-8a4c-3bca744e78da",
   "metadata": {},
   "source": [
    "## Enkele tips voor het werken met notebooks"
   ]
  },
  {
   "cell_type": "markdown",
   "id": "318963dd-2be1-4558-b0cc-f040fe3d4f5b",
   "metadata": {},
   "source": [
    "**Restart kernel and clear all outputs.** Soms is door de experimenten met code cellen de toestand verward geworden; of is op een of andere manier de kernel uit de pas geraakt met het notebook. In dat geval kun je de kernel herstarten, via het Kernel menu bovenin."
   ]
  },
  {
   "cell_type": "markdown",
   "id": "00d415f1-3c75-46f2-9033-f54daec02750",
   "metadata": {},
   "source": [
    "**Voer de cellen in de juiste volgorde uit.** De volgorde in het notebook is ook de volgorde waarin de cellen uitgevoerd moeten worden. Als je de uitvoering van een cel overslaat kan het zijn dat je een onderdeel van een berekening mist."
   ]
  },
  {
   "cell_type": "markdown",
   "id": "dd98c06b-6347-49e6-87e4-f41d00b0cb3d",
   "metadata": {},
   "source": []
  },
  {
   "cell_type": "markdown",
   "id": "8e3f64e2-e4c3-45c0-9c27-4694a5036ba3",
   "metadata": {},
   "source": []
  }
 ],
 "metadata": {
  "kernelspec": {
   "display_name": "Python 3 (ipykernel)",
   "language": "python",
   "name": "python3"
  },
  "language_info": {
   "codemirror_mode": {
    "name": "ipython",
    "version": 3
   },
   "file_extension": ".py",
   "mimetype": "text/x-python",
   "name": "python",
   "nbconvert_exporter": "python",
   "pygments_lexer": "ipython3",
   "version": "3.9.12"
  }
 },
 "nbformat": 4,
 "nbformat_minor": 5
}
