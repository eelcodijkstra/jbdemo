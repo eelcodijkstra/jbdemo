{
 "cells": [
  {
   "cell_type": "markdown",
   "id": "19d931bf-a0c1-45fa-a6e9-83d18936a81b",
   "metadata": {},
   "source": [
    "(jupyter_notebook)=\n",
    "# Jupyter Notebook"
   ]
  },
  {
   "cell_type": "markdown",
   "id": "bd0ab325-eb1e-4825-8de9-2a51a24fa613",
   "metadata": {},
   "source": [
    ":::{tip}\n",
    "Deze pagina is gemaakt uit een Jupyter Notebook.\n",
    "Je maakt de code-cellen in deze pagina actief via de \"Live Code\" button onder het raketje hierboven;\n",
    "wacht dan even tot deze activering \"ready\" is.\n",
    "Via de \"Binder\" button daarboven kun je deze pagina in de Jupyter Notebook UI bekijken en bewerken.\n",
    ":::"
   ]
  },
  {
   "cell_type": "markdown",
   "id": "a5cacfff-f8ce-48e5-b85a-87e9aee313bc",
   "metadata": {},
   "source": [
    ":::{admonition} Samenvatting\n",
    "\n",
    "Een Jupyter Notebook bestaat uit een reeks cellen, in twee soorten:\n",
    "\n",
    "* Markdown cellen, met tekst, formules, figuren, e.d.\n",
    "* executeerbare code-cellen\n",
    "    * er zijn kernels voor Python code, SQL, Elm, enz.\n",
    "\n",
    "Je kunt de code-cellen aanpassen en opnieuw uitvoeren.\n",
    "\n",
    "Je gebruikt Jupyter Notebook als een web-applicatie in de browser,\n",
    "verbonden met een server voor de kernel(s).\n",
    ":::"
   ]
  },
  {
   "cell_type": "markdown",
   "id": "e91ef560-746b-4851-8db7-fae48aa2fcff",
   "metadata": {},
   "source": [
    "## Wat is een Jupyter Notebook?"
   ]
  },
  {
   "cell_type": "markdown",
   "id": "a6ef13f7-fa73-4a57-8ef6-8ae6c32fba2d",
   "metadata": {},
   "source": [
    "Een Jupyter Notebook bestaat uit cellen; de belangrijkste soorten zijn Markdown (tekst) cellen en code-cellen.\n",
    "Deze cel is een Markdown cel. Zoals je ziet kan deze formules bevatten, zoals $e = m \\cdot c^2$, of\n",
    "\n",
    "$$\n",
    "x_{1,2} = \\frac{-b \\pm \\sqrt{b^2 - 4ac}}{2a}\n",
    "$$\n",
    "\n",
    "Ook figuren zijn mogelijk."
   ]
  },
  {
   "cell_type": "markdown",
   "id": "dfd001b7-5314-4de7-99b6-9ac55353625c",
   "metadata": {},
   "source": [
    "De cel hieronder is een code-cel (in Python). Het resultaat van de uitvoering van de cel zie je onder de cel."
   ]
  },
  {
   "cell_type": "code",
   "execution_count": 4,
   "id": "d85dea59-815f-43f5-b75b-e00eec1c6bdc",
   "metadata": {},
   "outputs": [
    {
     "data": {
      "text/plain": [
       "120"
      ]
     },
     "execution_count": 4,
     "metadata": {},
     "output_type": "execute_result"
    }
   ],
   "source": [
    "def fac(n):\n",
    "    if n == 0:\n",
    "        return 1\n",
    "    else:\n",
    "        return n * fac(n - 1)\n",
    "\n",
    "fac(5)"
   ]
  },
  {
   "cell_type": "markdown",
   "id": "2ba8f8bb-beb1-4a31-8973-1b912a00de2f",
   "metadata": {},
   "source": [
    ":::{margin}\n",
    "Maak eerst dit notebook actief, via de \"Live Code\" onder het raketje bovenin.\n",
    ":::"
   ]
  },
  {
   "cell_type": "markdown",
   "id": "df566b4e-a7de-451a-bbe2-1ec1d673974c",
   "metadata": {},
   "source": [
    "**Opdracht.** Selecteer de code-cel hierboven en pas de laatste regel aan, bijvoorbeeld: `fac(10)`. Voer de code-cel dan uit: in een \"Live Code\" cel gebruik je daarvoor de \"Run\" knop in de cel; in het Notebook interface selecteer je de cel en toets je \"Shift-Enter\" in."
   ]
  },
  {
   "cell_type": "markdown",
   "id": "a96528fe-2cb0-48b0-b382-a4cd039a0c96",
   "metadata": {},
   "source": [
    "Doordat je allerlei Python-libraries kunt gebruiken, kun je bijvoorbeeld ook grafieken maken."
   ]
  },
  {
   "cell_type": "markdown",
   "id": "75399613-7c9c-44ef-9a66-6e64e315b37f",
   "metadata": {},
   "source": [
    "Voorbeeld van een grafiek gemaakt met Python"
   ]
  },
  {
   "cell_type": "code",
   "execution_count": 12,
   "id": "3cc7b164-4ea9-43ae-a7c0-8430b760c75c",
   "metadata": {},
   "outputs": [
    {
     "data": {
      "image/png": "[encoded data removed]",
      "text/plain": [
       "<Figure size 432x288 with 1 Axes>"
      ]
     },
     "metadata": {
      "needs_background": "light"
     },
     "output_type": "display_data"
    }
   ],
   "source": [
    "import matplotlib.pyplot as plt\n",
    "import numpy as np\n",
    "\n",
    "# 100 linearly spaced numbers\n",
    "x = np.linspace(-np.pi,np.pi,100)\n",
    "\n",
    "# the function, which is y = sin(x) here\n",
    "y = np.sin(x)\n",
    "\n",
    "# setting the axes at the centre\n",
    "fig = plt.figure()\n",
    "ax = fig.add_subplot(1, 1, 1)\n",
    "ax.spines['left'].set_position('center')\n",
    "ax.spines['bottom'].set_position('center')\n",
    "ax.spines['right'].set_color('none')\n",
    "ax.spines['top'].set_color('none')\n",
    "ax.xaxis.set_ticks_position('bottom')\n",
    "ax.yaxis.set_ticks_position('left')\n",
    "\n",
    "# plot the function\n",
    "plt.plot(x,y, 'b')\n",
    "\n",
    "# show the plot\n",
    "plt.show()"
   ]
  },
  {
   "cell_type": "markdown",
   "id": "2622a6ec-7069-4250-9725-d04af2427a20",
   "metadata": {},
   "source": [
    "**Opdracht.** (Zorg dat je \"Live code\" cellen hebt.) Vervang in de code `np.sin(x)` door `np.sin(2*x)`. Wat verwacht je? Controleer of het klopt door de cel uit te voeren."
   ]
  },
  {
   "cell_type": "markdown",
   "id": "5b6068f9-0fcc-4f60-b0f8-450b723e40d8",
   "metadata": {},
   "source": [
    "## Kernels\n",
    "\n",
    "Een notebook gebruikt voor het uitvoeren van de code-cellen een *kernel* in een bepaalde programmeertaal.\n",
    "Er zijn kernels voor allerlei programmeertalen, bijvoorbeeld Python, R, JavaScript (en p5.js), Elm (functioneel programmeren), SQLite (databases), en nog veel meer.\n",
    "De Jupyter-aanpak is vooral geschikt voor interpreter-talen met een Read-Execute-Print-Loop (REPL).\n",
    "Een vertaalde taal als Java is hiervoor minder geschikt, hoewel Elm een voorbeeld geeft hoe dit kan. \n",
    "\n",
    "Jupyter Notebook werkt als een web-applicatie: de User Interface werkt in de browser, het rekenwerk wordt gedaan op de server.\n",
    "Dit betekent dat je ook veel voorbeelden tegenkomt van het gebruik van Jupyter Notebook \"in the cloud\".\n",
    "Dit heeft als grote voordeel dat gebruikers geen software hoeven te installeren.\n",
    "\n",
    "Je kunt overigens Jupyter Notebook ook op je eigen computer installeren.\n",
    "Je gebruikt dan nog steeds de browser voor de User Interface.\n",
    "Je eigen computer fungeert dan als (web)server voor het uitvoeren van de kernel(s)."
   ]
  },
  {
   "cell_type": "markdown",
   "id": "a9fe786b-901a-44ef-946f-638fe69f88bf",
   "metadata": {},
   "source": [
    ":::{graphviz}\n",
    ":align: center\n",
    "\n",
    "digraph{\n",
    "  node [shape=box, fontname=\"Gill Sans\"]\n",
    "  notebook [label=\"Jupyter Notebook\\nin de browser\"]\n",
    "  kernel [label=\"Python kernel\\nop de server\"]\n",
    "  notebook -> kernel\n",
    "  kernel -> notebook\n",
    "}\n",
    ":::"
   ]
  },
  {
   "cell_type": "markdown",
   "id": "d4017ef9-d659-4737-8a4c-3bca744e78da",
   "metadata": {},
   "source": [
    "## Enkele tips voor het werken met notebooks"
   ]
  },
  {
   "cell_type": "markdown",
   "id": "318963dd-2be1-4558-b0cc-f040fe3d4f5b",
   "metadata": {},
   "source": [
    "**Restart kernel and clear all outputs.** Soms is door de experimenten met code-cellen de toestand verward geworden; of is op een of andere manier de kernel uit de pas geraakt met het notebook. In dat geval kun je de kernel herstarten, via het Kernel menu bovenin."
   ]
  },
  {
   "cell_type": "markdown",
   "id": "00d415f1-3c75-46f2-9033-f54daec02750",
   "metadata": {},
   "source": [
    "**Voer de cellen in de juiste volgorde uit.** De volgorde in het notebook is ook de volgorde waarin de cellen uitgevoerd moeten worden. Als je de uitvoering van een cel overslaat kan het zijn dat je een onderdeel van een berekening mist."
   ]
  }
 ],
 "metadata": {
  "kernelspec": {
   "display_name": "Python 3 (ipykernel)",
   "language": "python",
   "name": "python3"
  },
  "language_info": {
   "codemirror_mode": {
    "name": "ipython",
    "version": 3
   },
   "file_extension": ".py",
   "mimetype": "text/x-python",
   "name": "python",
   "nbconvert_exporter": "python",
   "pygments_lexer": "ipython3",
   "version": "3.9.12"
  }
 },
 "nbformat": 4,
 "nbformat_minor": 5
}
