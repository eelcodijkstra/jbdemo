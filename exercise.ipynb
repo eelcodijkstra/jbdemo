{
 "cells": [
  {
   "cell_type": "markdown",
   "id": "44455a1c-2740-4634-a30c-3415d3e09009",
   "metadata": {},
   "source": [
    "(sphinx-exercise)=\n",
    "# Oefeningen"
   ]
  },
  {
   "cell_type": "markdown",
   "id": "d6b9cf1e-e679-482b-abe4-ac15d1f5cb57",
   "metadata": {},
   "source": [
    "De uitbreiding *Sphinx-exercise* maakt het mogelijk om opdrachten te formuleren en de uitwerkingen daarvan.\n",
    "Voor een uitgebreide uitleg, zie: https://ebp-sphinx-exercise.readthedocs.io/en/latest/"
   ]
  },
  {
   "cell_type": "markdown",
   "id": "d3f1d51b-af63-418e-9b76-582653ea0520",
   "metadata": {},
   "source": [
    "## Syntax"
   ]
  },
  {
   "cell_type": "markdown",
   "id": "a97ddd6a-11f6-4ac5-babd-b72ee105514d",
   "metadata": {},
   "source": [
    "Een opdracht heeft de vorm van een speciaal blok met een verplichte titel.\n",
    "(Deze titel wordt ook gebruikt bij de verwijzing van de oplossing naar de opdracht.)\n",
    "Als je later een uitwerking toe wilt voegen, moet je opdracht ook een uniek label krijgen.\n",
    "\n",
    "```\n",
    ":::{exercise} titel van de opdracht\n",
    ":label: my-exercise-123\n",
    "\n",
    "Omschrijving van de opdracht. Deze omschrijving kan ook figuren bevatten, en eventueel code blokken.\n",
    "\n",
    ":::\n",
    "```\n",
    "\n",
    "Dit geeft het volgende resultaat:"
   ]
  },
  {
   "cell_type": "markdown",
   "id": "ac66609e-e7f9-4435-af07-35fa42508e96",
   "metadata": {},
   "source": [
    ":::{exercise} titel van de opdracht\n",
    ":label: my-exercise-123\n",
    "\n",
    "Omschrijving van de opdracht. Deze omschrijving kan ook figuren bevatten, en eventueel code blokken.\n",
    "\n",
    ":::"
   ]
  },
  {
   "cell_type": "markdown",
   "id": "ccb0b61d-1065-44fd-98ca-4c61037a35e5",
   "metadata": {},
   "source": [
    "De uitwerking kun je op een andere plek in het Jupyter Book maken. Deze bevat dan een verwijzing naar de oorspronkelijke opdracht.\n",
    "\n",
    "```\n",
    ":::{solution} my-exercise-123\n",
    "\n",
    "Omschrijving van de uitwerking. Deze omschrijving kan ook figuren bevatten, en eventueel code blokken.\n",
    "\n",
    ":::\n",
    "```"
   ]
  },
  {
   "cell_type": "markdown",
   "id": "baf6b792-36bd-43a3-a5be-0cde38e96725",
   "metadata": {},
   "source": [
    ":::{solution} my-exercise-123\n",
    "\n",
    "Omschrijving van de uitwerking. Deze omschrijving kan ook figuren bevatten, en eventueel code blokken.\n",
    "\n",
    ":::"
   ]
  },
  {
   "cell_type": "markdown",
   "id": "6278f688-38ed-486c-9971-dc0aa7ce55e2",
   "metadata": {},
   "source": [
    "## Opmerkingen"
   ]
  },
  {
   "cell_type": "markdown",
   "id": "50b658f8-ac99-49ba-a78a-25679164b2f5",
   "metadata": {},
   "source": [
    "* opdrachten worden genummerd per hoofdstuk. Dat maakt het gemakkelijker om een hoofdstuk toe te voegen of weg te laten, bijvoorbeeld als je als docent het materiaal aanpast voor je eigen leerlingen.\n",
    "* "
   ]
  }
 ],
 "metadata": {
  "kernelspec": {
   "display_name": "Python 3 (ipykernel)",
   "language": "python",
   "name": "python3"
  },
  "language_info": {
   "codemirror_mode": {
    "name": "ipython",
    "version": 3
   },
   "file_extension": ".py",
   "mimetype": "text/x-python",
   "name": "python",
   "nbconvert_exporter": "python",
   "pygments_lexer": "ipython3",
   "version": "3.9.12"
  }
 },
 "nbformat": 4,
 "nbformat_minor": 5
}
