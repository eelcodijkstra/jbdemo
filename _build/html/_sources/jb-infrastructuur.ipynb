{
 "cells": [
  {
   "cell_type": "markdown",
   "id": "63bbe5c4-3e18-4eb7-bf1b-6f87bdd413aa",
   "metadata": {},
   "source": [
    "(jb_infrastructuur)=\n",
    "# De Jupyter Book infrastructuur"
   ]
  },
  {
   "cell_type": "markdown",
   "id": "00008b55-d894-4ba4-835c-51352da07d0a",
   "metadata": {},
   "source": [
    "Voor auteurs en docenten heeft i&i een infrastructuur opgezet, voor het maken en aanpassen van lesmateriaal.\n",
    "\n",
    "> We willen het auteurs en docenten hiermee zo gemakkelijk mogelijk maken: ze hoeven hiervoor niets op hun eigen computer te installeren.\n",
    "\n",
    "Deze bestaat uit de volgende onderdelen:\n",
    "\n",
    "* een JupyterLab omgeving (Jupyter Hub)\n",
    "* een lokale server, voor het controleren van het materiaal in online publicatie-vorm\n",
    "* verbonden met GitHub, voor het publiceren van het materiaal"
   ]
  },
  {
   "cell_type": "markdown",
   "id": "fe884614-6c52-4c62-ad53-59c368269ab9",
   "metadata": {},
   "source": [
    "Auteurs en docenten moeten enige kennis hebben van deze bouwstenen: Jupyter, Jupyter Book (Markdown, MyST voor opmaak), en GitHub (en git-versiebeheer). (Cursus? Handleidingen?)\n"
   ]
  }
 ],
 "metadata": {
  "kernelspec": {
   "display_name": "Python 3 (ipykernel)",
   "language": "python",
   "name": "python3"
  },
  "language_info": {
   "codemirror_mode": {
    "name": "ipython",
    "version": 3
   },
   "file_extension": ".py",
   "mimetype": "text/x-python",
   "name": "python",
   "nbconvert_exporter": "python",
   "pygments_lexer": "ipython3",
   "version": "3.9.7"
  }
 },
 "nbformat": 4,
 "nbformat_minor": 5
}
