{
 "cells": [
  {
   "cell_type": "markdown",
   "id": "9df306fb-f772-4c85-90f7-21443041cf2b",
   "metadata": {},
   "source": [
    "# Over dit Jupyter boek"
   ]
  },
  {
   "cell_type": "markdown",
   "id": "b5b14dc6-ad3f-487e-986d-9a2bb4519e9b",
   "metadata": {},
   "source": [
    "## Extensies\n",
    "\n",
    "Dit boek maakt gebruik van de volgende Jupyter Book/Sphinx-extensies:\n",
    "\n",
    "* exercise - opdrachten (mogelijk met uitwerkingen)\n",
    "* mchoice(?) - toetsvragen: multiple choice; fillintheblank; parsons; dragndrop\n",
    "* todos - voor het bijhouden van todo's in de tekst."
   ]
  },
  {
   "cell_type": "markdown",
   "id": "0b051cf3-c92f-426c-862c-0e683c3a0e4c",
   "metadata": {},
   "source": [
    "## Kernels\n",
    "\n",
    "In dit boek gebruiken we de volgende Jupyter kernels:\n",
    "\n",
    "* Python (met \"magic\" opdrachten voor de shell)\n",
    "* Elm\n",
    "* SQLite\n"
   ]
  },
  {
   "cell_type": "code",
   "execution_count": null,
   "id": "574fecf9-35ba-4164-a46a-c2b5162a724a",
   "metadata": {},
   "outputs": [],
   "source": []
  }
 ],
 "metadata": {
  "kernelspec": {
   "display_name": "Python 3 (ipykernel)",
   "language": "python",
   "name": "python3"
  },
  "language_info": {
   "codemirror_mode": {
    "name": "ipython",
    "version": 3
   },
   "file_extension": ".py",
   "mimetype": "text/x-python",
   "name": "python",
   "nbconvert_exporter": "python",
   "pygments_lexer": "ipython3",
   "version": "3.9.7"
  }
 },
 "nbformat": 4,
 "nbformat_minor": 5
}