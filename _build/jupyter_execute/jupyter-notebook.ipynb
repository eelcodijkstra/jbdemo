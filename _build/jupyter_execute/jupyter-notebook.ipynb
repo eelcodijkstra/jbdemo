{
 "cells": [
  {
   "cell_type": "markdown",
   "id": "19d931bf-a0c1-45fa-a6e9-83d18936a81b",
   "metadata": {},
   "source": [
    "(jupyter_notebook)=\n",
    "# Jupyter Notebook"
   ]
  },
  {
   "cell_type": "markdown",
   "id": "d4017ef9-d659-4737-8a4c-3bca744e78da",
   "metadata": {},
   "source": [
    "* wat is een notebook\n",
    "    * notebook bestaat uit cellen\n",
    "    * tekst-cellen - Markdown (in JB: MyST Markdown)\n",
    "    * code-cellen - verbonden met kernel op server\n",
    "* werken met notebook\n",
    "    * UI in browser\n",
    "    * uitvoering van code (meestal) op server\n",
    "    * \"kernel\" op server verbonden met notebook (status)\n",
    "* verschillende soorten kernels\n",
    "    * vooral voor \"REPL\" talen (vaak: scripting talen)\n",
    "    * cel komt overeen met een input (read), en output (print). \"eval\" gebeurt door de kernel op de server.\n",
    "    * oorspronkelijk Python; tegenwoordig ook: JS, Elm, SQL(ite), R, ...\n",
    "* voorbeeld(en) van het gebruik\n",
    "\n",
    "(De notebook-aanpak leent zich niet voor het programmeren van een toepassing in bijv. Java.)"
   ]
  },
  {
   "cell_type": "markdown",
   "id": "318963dd-2be1-4558-b0cc-f040fe3d4f5b",
   "metadata": {},
   "source": []
  }
 ],
 "metadata": {
  "kernelspec": {
   "display_name": "Python 3 (ipykernel)",
   "language": "python",
   "name": "python3"
  },
  "language_info": {
   "codemirror_mode": {
    "name": "ipython",
    "version": 3
   },
   "file_extension": ".py",
   "mimetype": "text/x-python",
   "name": "python",
   "nbconvert_exporter": "python",
   "pygments_lexer": "ipython3",
   "version": "3.9.7"
  }
 },
 "nbformat": 4,
 "nbformat_minor": 5
}