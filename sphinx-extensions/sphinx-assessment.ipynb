{
 "cells": [
  {
   "cell_type": "markdown",
   "id": "c90ddad3-81b0-4082-9f0e-30dbe978725e",
   "metadata": {},
   "source": [
    "# sphinx-assessment"
   ]
  },
  {
   "cell_type": "markdown",
   "id": "b82c2358-57fa-48af-be3e-60f960cf6129",
   "metadata": {},
   "source": [
    "Uitleg over de extensie `sphinx-assessment`."
   ]
  },
  {
   "cell_type": "markdown",
   "id": "b0be89f1-e1f4-4b57-a07d-ba5f96029545",
   "metadata": {},
   "source": []
  }
 ],
 "metadata": {
  "kernelspec": {
   "display_name": "Python 3 (ipykernel)",
   "language": "python",
   "name": "python3"
  },
  "language_info": {
   "codemirror_mode": {
    "name": "ipython",
    "version": 3
   },
   "file_extension": ".py",
   "mimetype": "text/x-python",
   "name": "python",
   "nbconvert_exporter": "python",
   "pygments_lexer": "ipython3",
   "version": "3.9.12"
  }
 },
 "nbformat": 4,
 "nbformat_minor": 5
}
